{
 "cells": [
  {
   "cell_type": "code",
   "execution_count": null,
   "id": "4ff813f4",
   "metadata": {},
   "outputs": [],
   "source": [
    "# print(\"\\ta\\tb\\tc\")\n"
   ]
  },
  {
   "cell_type": "code",
   "execution_count": 4,
   "id": "bf07111e",
   "metadata": {},
   "outputs": [
    {
     "name": "stdout",
     "output_type": "stream",
     "text": [
      "\ta\tb\tc\n"
     ]
    }
   ],
   "source": [
    "letters = \"\\ta\\tb\\tc\"\n",
    "print(letters)"
   ]
  },
  {
   "cell_type": "code",
   "execution_count": null,
   "id": "91f827b2",
   "metadata": {},
   "outputs": [],
   "source": [
    "# print(\"\\\\\\\\\")"
   ]
  },
  {
   "cell_type": "code",
   "execution_count": 7,
   "id": "9f4de003",
   "metadata": {},
   "outputs": [
    {
     "name": "stdout",
     "output_type": "stream",
     "text": [
      "\\\\\n"
     ]
    }
   ],
   "source": [
    "special =\"\\\\\\\\\"\n",
    "print(special)"
   ]
  },
  {
   "cell_type": "code",
   "execution_count": 8,
   "id": "027d3e83",
   "metadata": {},
   "outputs": [
    {
     "name": "stdout",
     "output_type": "stream",
     "text": [
      "'\n"
     ]
    }
   ],
   "source": [
    "# print(\"'\")\n",
    "apos = \"'\"\n",
    "print(apos)\n",
    "\n",
    "\n",
    "\n"
   ]
  },
  {
   "cell_type": "code",
   "execution_count": 9,
   "id": "b5c4fbe4",
   "metadata": {},
   "outputs": [
    {
     "name": "stdout",
     "output_type": "stream",
     "text": [
      "\"\"\"\n"
     ]
    }
   ],
   "source": [
    "# print(\"\\\"\\\"\\\"\")\n",
    "specials =\"\\\"\\\"\\\"\"\n",
    "print(specials)"
   ]
  },
  {
   "cell_type": "code",
   "execution_count": 10,
   "id": "a7195072",
   "metadata": {},
   "outputs": [
    {
     "name": "stdout",
     "output_type": "stream",
     "text": [
      "C:\n",
      "in\the downward spiral\n"
     ]
    }
   ],
   "source": [
    "# print(\"C:\\nin\\the downward spiral\")\n",
    "hey = \"C:\\nin\\the downward spiral\"\n",
    "print(hey)"
   ]
  },
  {
   "cell_type": "code",
   "execution_count": 24,
   "id": "4aa9e36a",
   "metadata": {},
   "outputs": [
    {
     "name": "stdout",
     "output_type": "stream",
     "text": [
      "//\\//\\\\///\\\\\\\n"
     ]
    }
   ],
   "source": [
    "#2.\tWrite a print statemnt to produce this output:/ \\ // \\\\ /// \\\\\\\n",
    "slashes = \"//\" \"\\\\\"  \"//\" \"\\\\\\\\\" \"///\" \"\\\\\\\\\\\\\"   \n",
    "print(slashes)"
   ]
  },
  {
   "cell_type": "code",
   "execution_count": 35,
   "id": "1123679f",
   "metadata": {},
   "outputs": [
    {
     "name": "stdout",
     "output_type": "stream",
     "text": [
      "Irish poet Oscar Wilde:\n",
      "'Music makes one feel so romantic\n",
      "- at least it always gets on one's nerves –\n",
      " which is the same thing nowadays.'\n"
     ]
    }
   ],
   "source": [
    "#3.\tWhat print statements will generate this output?This quote is from Irish poet Oscar Wilde:\"Music makes one feel so romantic- at least it always gets on one's nerves – which is the same thing nowadays.\"\n",
    "word = \"Irish poet Oscar Wilde:\\n'Music makes one feel so romantic\\n- at least it always gets on one's nerves –\\n which is the same thing nowadays.'\"    \n",
    "print(word)"
   ]
  },
  {
   "cell_type": "code",
   "execution_count": 36,
   "id": "ee51a300",
   "metadata": {},
   "outputs": [
    {
     "name": "stdout",
     "output_type": "stream",
     "text": [
      "A \"quoted\" String is 'much' better if you learn the rules of \"escape sequences.\" Also,  represents an empty String.\n",
      " Don't forget: use \\\" instead of \" ! '' is not the same as \" \n"
     ]
    }
   ],
   "source": [
    "#4.\tWhat print statements will generate this output?A \"quoted\" String is 'much' better if you learnthe rules of \"escape sequences.\" Also, \"\" represents an empty String. Don't forget: use \\\" instead of \" ! '' is not the same as \"\n",
    "stamen = \"A \\\"quoted\\\" String is 'much' better if you learn the rules of \\\"escape sequences.\\\" Also, \"\" represents an empty String.\\n Don't forget: use \\\\\\\" instead of \\\" ! '' is not the same as \\\" \"  \n",
    "print(stamen)"
   ]
  },
  {
   "cell_type": "code",
   "execution_count": 39,
   "id": "8cbc65c4",
   "metadata": {},
   "outputs": [
    {
     "name": "stdout",
     "output_type": "stream",
     "text": [
      "1.8\n"
     ]
    }
   ],
   "source": [
    "# calculate 9 / 5\n",
    "a = 9\n",
    "b = 5\n",
    "c = a/b\n",
    "print(c)"
   ]
  },
  {
   "cell_type": "code",
   "execution_count": 38,
   "id": "5f5782c6",
   "metadata": {},
   "outputs": [
    {
     "name": "stdout",
     "output_type": "stream",
     "text": [
      "15\n"
     ]
    }
   ],
   "source": [
    "# calculate 695 % 20 \n",
    "d = 695\n",
    "e = 20\n",
    "f = d % e\n",
    "print (f)"
   ]
  },
  {
   "cell_type": "code",
   "execution_count": null,
   "id": "55ad535f",
   "metadata": {},
   "outputs": [],
   "source": [
    "# calculate 7 + 6 * 5"
   ]
  },
  {
   "cell_type": "code",
   "execution_count": 43,
   "id": "a6e8b97d",
   "metadata": {},
   "outputs": [
    {
     "name": "stdout",
     "output_type": "stream",
     "text": [
      "37\n"
     ]
    }
   ],
   "source": [
    "g = 7\n",
    "h = 6\n",
    "\n",
    "j = g + h * b\n",
    "print(j)"
   ]
  },
  {
   "cell_type": "code",
   "execution_count": 44,
   "id": "f6dbbe24",
   "metadata": {},
   "outputs": [
    {
     "name": "stdout",
     "output_type": "stream",
     "text": [
      "47\n"
     ]
    }
   ],
   "source": [
    "# calculate 7 * 6 + 5 \n",
    "k = g * h + b\n",
    "print(k)"
   ]
  },
  {
   "cell_type": "code",
   "execution_count": 49,
   "id": "e2d6fba9",
   "metadata": {},
   "outputs": [
    {
     "name": "stdout",
     "output_type": "stream",
     "text": [
      "9.6\n"
     ]
    }
   ],
   "source": [
    "# calculate 248 % 100 / 5\n",
    "l = 248\n",
    "m = 100\n",
    "b = 5\n",
    "o = l % m / b\n",
    "print(o)"
   ]
  },
  {
   "cell_type": "code",
   "execution_count": 46,
   "id": "69f4040c",
   "metadata": {},
   "outputs": [
    {
     "name": "stdout",
     "output_type": "stream",
     "text": [
      "15.75\n"
     ]
    }
   ],
   "source": [
    "# calculate 6 * 3 - 9 / 4\n",
    "p = 3\n",
    "q = 4\n",
    "r = h * p - a / q\n",
    "print(r)"
   ]
  },
  {
   "cell_type": "code",
   "execution_count": null,
   "id": "cfb12530",
   "metadata": {},
   "outputs": [],
   "source": [
    "# calculate (5 - 7) * 4"
   ]
  },
  {
   "cell_type": "code",
   "execution_count": 50,
   "id": "7921569a",
   "metadata": {},
   "outputs": [
    {
     "name": "stdout",
     "output_type": "stream",
     "text": [
      "-8\n"
     ]
    }
   ],
   "source": [
    "s = (b - g) * q\n",
    "print(s)"
   ]
  },
  {
   "cell_type": "code",
   "execution_count": 51,
   "id": "76de1368",
   "metadata": {},
   "outputs": [
    {
     "name": "stdout",
     "output_type": "stream",
     "text": [
      "9\n"
     ]
    }
   ],
   "source": [
    "# calculate  6 + (18 % (17 - 12))\n",
    "t = 18\n",
    "u = 17\n",
    "v = 12\n",
    "w = h + (t % (u - v))\n",
    "print(w)"
   ]
  },
  {
   "cell_type": "code",
   "execution_count": null,
   "id": "ce8ad6fb",
   "metadata": {},
   "outputs": [],
   "source": []
  }
 ],
 "metadata": {
  "kernelspec": {
   "display_name": "Python 3 (ipykernel)",
   "language": "python",
   "name": "python3"
  },
  "language_info": {
   "codemirror_mode": {
    "name": "ipython",
    "version": 3
   },
   "file_extension": ".py",
   "mimetype": "text/x-python",
   "name": "python",
   "nbconvert_exporter": "python",
   "pygments_lexer": "ipython3",
   "version": "3.11.5"
  }
 },
 "nbformat": 4,
 "nbformat_minor": 5
}
