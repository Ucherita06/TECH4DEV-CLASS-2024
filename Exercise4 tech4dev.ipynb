{
 "cells": [
  {
   "cell_type": "code",
   "execution_count": 2,
   "id": "fc132a31",
   "metadata": {},
   "outputs": [
    {
     "name": "stdout",
     "output_type": "stream",
     "text": [
      "+----+\n",
      "\\ /\n",
      "/ \\\n",
      "\\ /\n",
      "/ \\\n",
      "\\ /\n",
      "/ \\\n",
      "+----+\n"
     ]
    }
   ],
   "source": [
    "#1. Write a program to produce the following output using for loop+----+\\ // \\\\ // \\\\ // \\+----+\n",
    "signs = ['+----+','\\\\ /','/ \\\\','\\\\ /','/ \\\\','\\\\ /','/ \\\\','+----+'  ]\n",
    "for i in signs:\n",
    "    print(i)"
   ]
  },
  {
   "cell_type": "code",
   "execution_count": 4,
   "id": "a1146903",
   "metadata": {},
   "outputs": [
    {
     "name": "stdout",
     "output_type": "stream",
     "text": [
      "**********\n",
      "**********\n",
      "**********\n",
      "**********\n",
      "**********\n"
     ]
    }
   ],
   "source": [
    "#2. Write a program to produce the following output using for loop**********,**********,**********,**********,**********\n",
    "ask = \"*****\"   \n",
    "for i in ask:\n",
    "    print(i * 10)"
   ]
  },
  {
   "cell_type": "code",
   "execution_count": 92,
   "id": "e3effc5e",
   "metadata": {},
   "outputs": [
    {
     "name": "stdout",
     "output_type": "stream",
     "text": [
      "1\t2\t4\t30\t-7\t97\t-4\n",
      "2\t4\t9\t20\t-3\t94\t14\n",
      "3\t6\t14\t10\t1\t91\t32\n",
      "4\t8\t19\t0\t5\t88\t50\n",
      "5\t10\t24\t-10\t9\t85\t68\n"
     ]
    }
   ],
   "source": [
    "#3. Complete the code for the following for loop:for in range(1,7)://your code hereso that it prints the following numbers, one per line:a) 1 b) 2 c) 4 d) 30 e) -7 f) 97 g) 2 4 19 20 -3 94 143 6 34 10 1 91 324 8 49 0 5 88 505 10 64 -10 9 85 686 12 79 -20 13 82for valuess in range(1,7,1):\n",
    "for i,j,k,l,m,n,o in zip(range(1,7,1), range(2,13,2),range(4,82,5),range(30,-21,-10),range(-7,14,4),range(97,83,-3),range(-4,90,18)):\n",
    "     print('{}\\t{}\\t{}\\t{}\\t{}\\t{}\\t{}'.format(i,j,k,l,m,n,o))\n",
    "    \n",
    "   \n",
    "       \n",
    "     \n",
    "    \n",
    "   "
   ]
  },
  {
   "cell_type": "code",
   "execution_count": 94,
   "id": "a2b8118e",
   "metadata": {
    "scrolled": true
   },
   "outputs": [
    {
     "name": "stdout",
     "output_type": "stream",
     "text": [
      "\n",
      "1\n",
      "22\n",
      "333\n",
      "4444\n",
      "55555\n",
      "666666\n",
      "7777777\n"
     ]
    }
   ],
   "source": [
    "#4. Write a program to produce the following output using for loops. The use a class constant to make it possible to change the number of lines inthe figur#1223334444555556666667777777\n",
    "for i in range(8):\n",
    "    print(str(i) * i)"
   ]
  },
  {
   "cell_type": "code",
   "execution_count": 192,
   "id": "a9437ff3",
   "metadata": {},
   "outputs": [
    {
     "ename": "KeyboardInterrupt",
     "evalue": "Interrupted by user",
     "output_type": "error",
     "traceback": [
      "\u001b[1;31m---------------------------------------------------------------------------\u001b[0m",
      "\u001b[1;31mKeyboardInterrupt\u001b[0m                         Traceback (most recent call last)",
      "Cell \u001b[1;32mIn[192], line 10\u001b[0m\n\u001b[0;32m      7\u001b[0m         p \u001b[38;5;241m=\u001b[39m h \u001b[38;5;241m*\u001b[39m r\n\u001b[0;32m      8\u001b[0m     \u001b[38;5;28;01mreturn\u001b[39;00m p\n\u001b[1;32m---> 10\u001b[0m hrs \u001b[38;5;241m=\u001b[39m \u001b[38;5;28minput\u001b[39m(\u001b[38;5;124m\"\u001b[39m\u001b[38;5;124mEnter Hours:\u001b[39m\u001b[38;5;124m\"\u001b[39m)\n\u001b[0;32m     11\u001b[0m hr  \u001b[38;5;241m=\u001b[39m \u001b[38;5;28mfloat\u001b[39m(hrs)\n\u001b[0;32m     12\u001b[0m rphrs \u001b[38;5;241m=\u001b[39m \u001b[38;5;28minput\u001b[39m(\u001b[38;5;124m\"\u001b[39m\u001b[38;5;124mEnter rate per hour:\u001b[39m\u001b[38;5;124m\"\u001b[39m)\n",
      "File \u001b[1;32m~\\Desktop\\New folder\\Lib\\site-packages\\ipykernel\\kernelbase.py:1202\u001b[0m, in \u001b[0;36mKernel.raw_input\u001b[1;34m(self, prompt)\u001b[0m\n\u001b[0;32m   1200\u001b[0m     msg \u001b[38;5;241m=\u001b[39m \u001b[38;5;124m\"\u001b[39m\u001b[38;5;124mraw_input was called, but this frontend does not support input requests.\u001b[39m\u001b[38;5;124m\"\u001b[39m\n\u001b[0;32m   1201\u001b[0m     \u001b[38;5;28;01mraise\u001b[39;00m StdinNotImplementedError(msg)\n\u001b[1;32m-> 1202\u001b[0m \u001b[38;5;28;01mreturn\u001b[39;00m \u001b[38;5;28mself\u001b[39m\u001b[38;5;241m.\u001b[39m_input_request(\n\u001b[0;32m   1203\u001b[0m     \u001b[38;5;28mstr\u001b[39m(prompt),\n\u001b[0;32m   1204\u001b[0m     \u001b[38;5;28mself\u001b[39m\u001b[38;5;241m.\u001b[39m_parent_ident[\u001b[38;5;124m\"\u001b[39m\u001b[38;5;124mshell\u001b[39m\u001b[38;5;124m\"\u001b[39m],\n\u001b[0;32m   1205\u001b[0m     \u001b[38;5;28mself\u001b[39m\u001b[38;5;241m.\u001b[39mget_parent(\u001b[38;5;124m\"\u001b[39m\u001b[38;5;124mshell\u001b[39m\u001b[38;5;124m\"\u001b[39m),\n\u001b[0;32m   1206\u001b[0m     password\u001b[38;5;241m=\u001b[39m\u001b[38;5;28;01mFalse\u001b[39;00m,\n\u001b[0;32m   1207\u001b[0m )\n",
      "File \u001b[1;32m~\\Desktop\\New folder\\Lib\\site-packages\\ipykernel\\kernelbase.py:1245\u001b[0m, in \u001b[0;36mKernel._input_request\u001b[1;34m(self, prompt, ident, parent, password)\u001b[0m\n\u001b[0;32m   1242\u001b[0m \u001b[38;5;28;01mexcept\u001b[39;00m \u001b[38;5;167;01mKeyboardInterrupt\u001b[39;00m:\n\u001b[0;32m   1243\u001b[0m     \u001b[38;5;66;03m# re-raise KeyboardInterrupt, to truncate traceback\u001b[39;00m\n\u001b[0;32m   1244\u001b[0m     msg \u001b[38;5;241m=\u001b[39m \u001b[38;5;124m\"\u001b[39m\u001b[38;5;124mInterrupted by user\u001b[39m\u001b[38;5;124m\"\u001b[39m\n\u001b[1;32m-> 1245\u001b[0m     \u001b[38;5;28;01mraise\u001b[39;00m \u001b[38;5;167;01mKeyboardInterrupt\u001b[39;00m(msg) \u001b[38;5;28;01mfrom\u001b[39;00m \u001b[38;5;28;01mNone\u001b[39;00m\n\u001b[0;32m   1246\u001b[0m \u001b[38;5;28;01mexcept\u001b[39;00m \u001b[38;5;167;01mException\u001b[39;00m:\n\u001b[0;32m   1247\u001b[0m     \u001b[38;5;28mself\u001b[39m\u001b[38;5;241m.\u001b[39mlog\u001b[38;5;241m.\u001b[39mwarning(\u001b[38;5;124m\"\u001b[39m\u001b[38;5;124mInvalid Message:\u001b[39m\u001b[38;5;124m\"\u001b[39m, exc_info\u001b[38;5;241m=\u001b[39m\u001b[38;5;28;01mTrue\u001b[39;00m)\n",
      "\u001b[1;31mKeyboardInterrupt\u001b[0m: Interrupted by user"
     ]
    }
   ],
   "source": [
    "#Write a method named pay that accepts two parameters: a real numberfor a TA's salary, and an integer for the number of hours the TA workedthis week. The method should return how much money to pay the TA.For example, the callpay(5.50, 6)should return33.0.The TA should receive \"overtime\" pay of 1 ½ normal salary for any hoursabove 8. For example, the call pay(4.00, 11) should return (4.00 *8) + (6.00 * 3) or 50.0.\n",
    "\n",
    "def computepay(hour,rate):\n",
    "    if hour > 8:\n",
    "        p = 1.5 * rate * (hour - 8) + (8 *rate)\n",
    "    else:\n",
    "        p = h * r\n",
    "    return p\n",
    "    \n",
    "hrs = input(\"Enter Hours:\")\n",
    "hr  = float(hrs)\n",
    "rphrs = input(\"Enter rate per hour:\")\n",
    "rphr = float(rphrs)\n",
    "p = computepay(hr,rphr)\n",
    "print(p)\n"
   ]
  },
  {
   "cell_type": "code",
   "execution_count": null,
   "id": "0b707afb",
   "metadata": {},
   "outputs": [],
   "source": [
    "#6. Consider the following method for converting milliseconds into days// converts milliseconds to daysdef toDays(millis):return millis / 1000.0 / 60.0 / 60.0 / 24.0Write a similar method named area that takes as a parameter the radius ofa circle and that returns the area of the circle. For example, the callarea(2.0);should return12.566370614359172.Recall that area can be computed as π times the radius squared and thatPython has a constant called math.pi\n",
    "import math\n",
    "radius = float(input(\"Enter a number\"))\n",
    "Area = math.pi *radius*radius\n",
    "print(Area)"
   ]
  },
  {
   "cell_type": "code",
   "execution_count": 207,
   "id": "477a1989",
   "metadata": {},
   "outputs": [
    {
     "ename": "KeyboardInterrupt",
     "evalue": "Interrupted by user",
     "output_type": "error",
     "traceback": [
      "\u001b[1;31m---------------------------------------------------------------------------\u001b[0m",
      "\u001b[1;31mKeyboardInterrupt\u001b[0m                         Traceback (most recent call last)",
      "Cell \u001b[1;32mIn[207], line 3\u001b[0m\n\u001b[0;32m      1\u001b[0m \u001b[38;5;66;03m#Copy and paste the following code into pythons IDLE scriptenvironment. low = 1high = 1001sum = 0 for i in range(low,high): sum += i print(\"sum = \" , sum)Modify the code to use a input to prompt the user for the values of lowand high. Below is a sample execution in which the user asks for the samevalues as in the original program (1 through 1000):low? 1high? 1001sum = 500500Below is an execution with different values for low and high:low? 300high? 5298sum = 13986903You should exactly reproduce this format\u001b[39;00m\n\u001b[1;32m----> 3\u001b[0m low \u001b[38;5;241m=\u001b[39m \u001b[38;5;28mint\u001b[39m(\u001b[38;5;28minput\u001b[39m(\u001b[38;5;124m\"\u001b[39m\u001b[38;5;124mwhat is your low\u001b[39m\u001b[38;5;124m\"\u001b[39m))\n\u001b[0;32m      4\u001b[0m high \u001b[38;5;241m=\u001b[39m \u001b[38;5;28mint\u001b[39m(\u001b[38;5;28minput\u001b[39m(\u001b[38;5;124m\"\u001b[39m\u001b[38;5;124mwhat is your high\u001b[39m\u001b[38;5;124m\"\u001b[39m))\n\u001b[0;32m      5\u001b[0m \u001b[38;5;28msum\u001b[39m \u001b[38;5;241m=\u001b[39m \u001b[38;5;241m0\u001b[39m\n",
      "File \u001b[1;32m~\\Desktop\\New folder\\Lib\\site-packages\\ipykernel\\kernelbase.py:1202\u001b[0m, in \u001b[0;36mKernel.raw_input\u001b[1;34m(self, prompt)\u001b[0m\n\u001b[0;32m   1200\u001b[0m     msg \u001b[38;5;241m=\u001b[39m \u001b[38;5;124m\"\u001b[39m\u001b[38;5;124mraw_input was called, but this frontend does not support input requests.\u001b[39m\u001b[38;5;124m\"\u001b[39m\n\u001b[0;32m   1201\u001b[0m     \u001b[38;5;28;01mraise\u001b[39;00m StdinNotImplementedError(msg)\n\u001b[1;32m-> 1202\u001b[0m \u001b[38;5;28;01mreturn\u001b[39;00m \u001b[38;5;28mself\u001b[39m\u001b[38;5;241m.\u001b[39m_input_request(\n\u001b[0;32m   1203\u001b[0m     \u001b[38;5;28mstr\u001b[39m(prompt),\n\u001b[0;32m   1204\u001b[0m     \u001b[38;5;28mself\u001b[39m\u001b[38;5;241m.\u001b[39m_parent_ident[\u001b[38;5;124m\"\u001b[39m\u001b[38;5;124mshell\u001b[39m\u001b[38;5;124m\"\u001b[39m],\n\u001b[0;32m   1205\u001b[0m     \u001b[38;5;28mself\u001b[39m\u001b[38;5;241m.\u001b[39mget_parent(\u001b[38;5;124m\"\u001b[39m\u001b[38;5;124mshell\u001b[39m\u001b[38;5;124m\"\u001b[39m),\n\u001b[0;32m   1206\u001b[0m     password\u001b[38;5;241m=\u001b[39m\u001b[38;5;28;01mFalse\u001b[39;00m,\n\u001b[0;32m   1207\u001b[0m )\n",
      "File \u001b[1;32m~\\Desktop\\New folder\\Lib\\site-packages\\ipykernel\\kernelbase.py:1245\u001b[0m, in \u001b[0;36mKernel._input_request\u001b[1;34m(self, prompt, ident, parent, password)\u001b[0m\n\u001b[0;32m   1242\u001b[0m \u001b[38;5;28;01mexcept\u001b[39;00m \u001b[38;5;167;01mKeyboardInterrupt\u001b[39;00m:\n\u001b[0;32m   1243\u001b[0m     \u001b[38;5;66;03m# re-raise KeyboardInterrupt, to truncate traceback\u001b[39;00m\n\u001b[0;32m   1244\u001b[0m     msg \u001b[38;5;241m=\u001b[39m \u001b[38;5;124m\"\u001b[39m\u001b[38;5;124mInterrupted by user\u001b[39m\u001b[38;5;124m\"\u001b[39m\n\u001b[1;32m-> 1245\u001b[0m     \u001b[38;5;28;01mraise\u001b[39;00m \u001b[38;5;167;01mKeyboardInterrupt\u001b[39;00m(msg) \u001b[38;5;28;01mfrom\u001b[39;00m \u001b[38;5;28;01mNone\u001b[39;00m\n\u001b[0;32m   1246\u001b[0m \u001b[38;5;28;01mexcept\u001b[39;00m \u001b[38;5;167;01mException\u001b[39;00m:\n\u001b[0;32m   1247\u001b[0m     \u001b[38;5;28mself\u001b[39m\u001b[38;5;241m.\u001b[39mlog\u001b[38;5;241m.\u001b[39mwarning(\u001b[38;5;124m\"\u001b[39m\u001b[38;5;124mInvalid Message:\u001b[39m\u001b[38;5;124m\"\u001b[39m, exc_info\u001b[38;5;241m=\u001b[39m\u001b[38;5;28;01mTrue\u001b[39;00m)\n",
      "\u001b[1;31mKeyboardInterrupt\u001b[0m: Interrupted by user"
     ]
    }
   ],
   "source": [
    "#Copy and paste the following code into pythons IDLE scriptenvironment. low = 1high = 1001sum = 0 for i in range(low,high): sum += i print(\"sum = \" , sum)Modify the code to use a input to prompt the user for the values of lowand high. Below is a sample execution in which the user asks for the samevalues as in the original program (1 through 1000):low? 1high? 1001sum = 500500Below is an execution with different values for low and high:low? 300high? 5298sum = 13986903You should exactly reproduce this format\n",
    "\n",
    "low = int(input(\"what is your low\"))\n",
    "high = int(input(\"what is your high\"))\n",
    "sum = 0\n",
    "for i in range(low,high):\n",
    "    sum += i\n",
    "print(\"sum = \" , sum)"
   ]
  },
  {
   "cell_type": "code",
   "execution_count": 208,
   "id": "7c3efe01",
   "metadata": {},
   "outputs": [
    {
     "ename": "KeyboardInterrupt",
     "evalue": "Interrupted by user",
     "output_type": "error",
     "traceback": [
      "\u001b[1;31m---------------------------------------------------------------------------\u001b[0m",
      "\u001b[1;31mKeyboardInterrupt\u001b[0m                         Traceback (most recent call last)",
      "Cell \u001b[1;32mIn[208], line 5\u001b[0m\n\u001b[0;32m      3\u001b[0m total_sum\u001b[38;5;241m=\u001b[39m\u001b[38;5;241m0\u001b[39m\n\u001b[0;32m      4\u001b[0m \u001b[38;5;28;01mwhile\u001b[39;00m \u001b[38;5;28;01mTrue\u001b[39;00m:\n\u001b[1;32m----> 5\u001b[0m     number \u001b[38;5;241m=\u001b[39m \u001b[38;5;28mint\u001b[39m(\u001b[38;5;28minput\u001b[39m(\u001b[38;5;124m\"\u001b[39m\u001b[38;5;124mNumber: \u001b[39m\u001b[38;5;124m\"\u001b[39m))\n\u001b[0;32m      6\u001b[0m     \u001b[38;5;28;01mif\u001b[39;00m number \u001b[38;5;241m==\u001b[39m \u001b[38;5;241m0\u001b[39m:\n\u001b[0;32m      7\u001b[0m         \u001b[38;5;28;01mbreak\u001b[39;00m\n",
      "File \u001b[1;32m~\\Desktop\\New folder\\Lib\\site-packages\\ipykernel\\kernelbase.py:1202\u001b[0m, in \u001b[0;36mKernel.raw_input\u001b[1;34m(self, prompt)\u001b[0m\n\u001b[0;32m   1200\u001b[0m     msg \u001b[38;5;241m=\u001b[39m \u001b[38;5;124m\"\u001b[39m\u001b[38;5;124mraw_input was called, but this frontend does not support input requests.\u001b[39m\u001b[38;5;124m\"\u001b[39m\n\u001b[0;32m   1201\u001b[0m     \u001b[38;5;28;01mraise\u001b[39;00m StdinNotImplementedError(msg)\n\u001b[1;32m-> 1202\u001b[0m \u001b[38;5;28;01mreturn\u001b[39;00m \u001b[38;5;28mself\u001b[39m\u001b[38;5;241m.\u001b[39m_input_request(\n\u001b[0;32m   1203\u001b[0m     \u001b[38;5;28mstr\u001b[39m(prompt),\n\u001b[0;32m   1204\u001b[0m     \u001b[38;5;28mself\u001b[39m\u001b[38;5;241m.\u001b[39m_parent_ident[\u001b[38;5;124m\"\u001b[39m\u001b[38;5;124mshell\u001b[39m\u001b[38;5;124m\"\u001b[39m],\n\u001b[0;32m   1205\u001b[0m     \u001b[38;5;28mself\u001b[39m\u001b[38;5;241m.\u001b[39mget_parent(\u001b[38;5;124m\"\u001b[39m\u001b[38;5;124mshell\u001b[39m\u001b[38;5;124m\"\u001b[39m),\n\u001b[0;32m   1206\u001b[0m     password\u001b[38;5;241m=\u001b[39m\u001b[38;5;28;01mFalse\u001b[39;00m,\n\u001b[0;32m   1207\u001b[0m )\n",
      "File \u001b[1;32m~\\Desktop\\New folder\\Lib\\site-packages\\ipykernel\\kernelbase.py:1245\u001b[0m, in \u001b[0;36mKernel._input_request\u001b[1;34m(self, prompt, ident, parent, password)\u001b[0m\n\u001b[0;32m   1242\u001b[0m \u001b[38;5;28;01mexcept\u001b[39;00m \u001b[38;5;167;01mKeyboardInterrupt\u001b[39;00m:\n\u001b[0;32m   1243\u001b[0m     \u001b[38;5;66;03m# re-raise KeyboardInterrupt, to truncate traceback\u001b[39;00m\n\u001b[0;32m   1244\u001b[0m     msg \u001b[38;5;241m=\u001b[39m \u001b[38;5;124m\"\u001b[39m\u001b[38;5;124mInterrupted by user\u001b[39m\u001b[38;5;124m\"\u001b[39m\n\u001b[1;32m-> 1245\u001b[0m     \u001b[38;5;28;01mraise\u001b[39;00m \u001b[38;5;167;01mKeyboardInterrupt\u001b[39;00m(msg) \u001b[38;5;28;01mfrom\u001b[39;00m \u001b[38;5;28;01mNone\u001b[39;00m\n\u001b[0;32m   1246\u001b[0m \u001b[38;5;28;01mexcept\u001b[39;00m \u001b[38;5;167;01mException\u001b[39;00m:\n\u001b[0;32m   1247\u001b[0m     \u001b[38;5;28mself\u001b[39m\u001b[38;5;241m.\u001b[39mlog\u001b[38;5;241m.\u001b[39mwarning(\u001b[38;5;124m\"\u001b[39m\u001b[38;5;124mInvalid Message:\u001b[39m\u001b[38;5;124m\"\u001b[39m, exc_info\u001b[38;5;241m=\u001b[39m\u001b[38;5;28;01mTrue\u001b[39;00m)\n",
      "\u001b[1;31mKeyboardInterrupt\u001b[0m: Interrupted by user"
     ]
    }
   ],
   "source": [
    "#8. Write a program using while loop that prompts the user for numbers until the user types 0, then outputs their sum.\n",
    "number_of_numbers=0\n",
    "total_sum=0\n",
    "while True:\n",
    "    number = int(input(\"Number: \"))\n",
    "    if number == 0:\n",
    "        break\n",
    "    number_of_numbers += 1\n",
    "    total_sum += number\n",
    "\n",
    "print(\"Total number of numbers is: \", number_of_numbers)\n",
    "print(\"Total sum is: \", total_sum)"
   ]
  },
  {
   "cell_type": "code",
   "execution_count": 203,
   "id": "746ccd6c",
   "metadata": {},
   "outputs": [
    {
     "ename": "KeyboardInterrupt",
     "evalue": "Interrupted by user",
     "output_type": "error",
     "traceback": [
      "\u001b[1;31m---------------------------------------------------------------------------\u001b[0m",
      "\u001b[1;31mKeyboardInterrupt\u001b[0m                         Traceback (most recent call last)",
      "Cell \u001b[1;32mIn[203], line 6\u001b[0m\n\u001b[0;32m      4\u001b[0m number \u001b[38;5;241m=\u001b[39m \u001b[38;5;28;01mNone\u001b[39;00m\n\u001b[0;32m      5\u001b[0m \u001b[38;5;28;01mwhile\u001b[39;00m number \u001b[38;5;241m!=\u001b[39m \u001b[38;5;241m-\u001b[39m\u001b[38;5;241m1\u001b[39m:\n\u001b[1;32m----> 6\u001b[0m     number \u001b[38;5;241m=\u001b[39m \u001b[38;5;28mint\u001b[39m(\u001b[38;5;28minput\u001b[39m(\u001b[38;5;124m\"\u001b[39m\u001b[38;5;124mEnter a number (-1 to stop): \u001b[39m\u001b[38;5;124m\"\u001b[39m))  \n\u001b[0;32m      7\u001b[0m     sum_numbers \u001b[38;5;241m+\u001b[39m\u001b[38;5;241m=\u001b[39m number  \u001b[38;5;66;03m# Add the number to the sum\u001b[39;00m\n\u001b[0;32m      9\u001b[0m \u001b[38;5;66;03m# Display the sum of the numbers entered\u001b[39;00m\n",
      "File \u001b[1;32m~\\Desktop\\New folder\\Lib\\site-packages\\ipykernel\\kernelbase.py:1202\u001b[0m, in \u001b[0;36mKernel.raw_input\u001b[1;34m(self, prompt)\u001b[0m\n\u001b[0;32m   1200\u001b[0m     msg \u001b[38;5;241m=\u001b[39m \u001b[38;5;124m\"\u001b[39m\u001b[38;5;124mraw_input was called, but this frontend does not support input requests.\u001b[39m\u001b[38;5;124m\"\u001b[39m\n\u001b[0;32m   1201\u001b[0m     \u001b[38;5;28;01mraise\u001b[39;00m StdinNotImplementedError(msg)\n\u001b[1;32m-> 1202\u001b[0m \u001b[38;5;28;01mreturn\u001b[39;00m \u001b[38;5;28mself\u001b[39m\u001b[38;5;241m.\u001b[39m_input_request(\n\u001b[0;32m   1203\u001b[0m     \u001b[38;5;28mstr\u001b[39m(prompt),\n\u001b[0;32m   1204\u001b[0m     \u001b[38;5;28mself\u001b[39m\u001b[38;5;241m.\u001b[39m_parent_ident[\u001b[38;5;124m\"\u001b[39m\u001b[38;5;124mshell\u001b[39m\u001b[38;5;124m\"\u001b[39m],\n\u001b[0;32m   1205\u001b[0m     \u001b[38;5;28mself\u001b[39m\u001b[38;5;241m.\u001b[39mget_parent(\u001b[38;5;124m\"\u001b[39m\u001b[38;5;124mshell\u001b[39m\u001b[38;5;124m\"\u001b[39m),\n\u001b[0;32m   1206\u001b[0m     password\u001b[38;5;241m=\u001b[39m\u001b[38;5;28;01mFalse\u001b[39;00m,\n\u001b[0;32m   1207\u001b[0m )\n",
      "File \u001b[1;32m~\\Desktop\\New folder\\Lib\\site-packages\\ipykernel\\kernelbase.py:1245\u001b[0m, in \u001b[0;36mKernel._input_request\u001b[1;34m(self, prompt, ident, parent, password)\u001b[0m\n\u001b[0;32m   1242\u001b[0m \u001b[38;5;28;01mexcept\u001b[39;00m \u001b[38;5;167;01mKeyboardInterrupt\u001b[39;00m:\n\u001b[0;32m   1243\u001b[0m     \u001b[38;5;66;03m# re-raise KeyboardInterrupt, to truncate traceback\u001b[39;00m\n\u001b[0;32m   1244\u001b[0m     msg \u001b[38;5;241m=\u001b[39m \u001b[38;5;124m\"\u001b[39m\u001b[38;5;124mInterrupted by user\u001b[39m\u001b[38;5;124m\"\u001b[39m\n\u001b[1;32m-> 1245\u001b[0m     \u001b[38;5;28;01mraise\u001b[39;00m \u001b[38;5;167;01mKeyboardInterrupt\u001b[39;00m(msg) \u001b[38;5;28;01mfrom\u001b[39;00m \u001b[38;5;28;01mNone\u001b[39;00m\n\u001b[0;32m   1246\u001b[0m \u001b[38;5;28;01mexcept\u001b[39;00m \u001b[38;5;167;01mException\u001b[39;00m:\n\u001b[0;32m   1247\u001b[0m     \u001b[38;5;28mself\u001b[39m\u001b[38;5;241m.\u001b[39mlog\u001b[38;5;241m.\u001b[39mwarning(\u001b[38;5;124m\"\u001b[39m\u001b[38;5;124mInvalid Message:\u001b[39m\u001b[38;5;124m\"\u001b[39m, exc_info\u001b[38;5;241m=\u001b[39m\u001b[38;5;28;01mTrue\u001b[39;00m)\n",
      "\u001b[1;31mKeyboardInterrupt\u001b[0m: Interrupted by user"
     ]
    }
   ],
   "source": [
    "#Write a program using while loop that prompts the user for numbers untilthe user types -1, then outputs their sum.\n",
    "\n",
    "a_numbers = -1\n",
    "number = None\n",
    "while number != -1:\n",
    "    number = int(input(\"Enter a number (-1 to stop): \"))  \n",
    "    sum_numbers += number  # Add the number to the sum\n",
    "\n",
    "# Display the sum of the numbers entered\n",
    "print(\"The sum of the numbers is:\", sum_numbers)"
   ]
  },
  {
   "cell_type": "code",
   "execution_count": 201,
   "id": "64b10a66",
   "metadata": {},
   "outputs": [
    {
     "name": "stdout",
     "output_type": "stream",
     "text": [
      "HiHiHiHiHiHiHiHiHiHi\n"
     ]
    }
   ],
   "source": [
    "#10.Write a method named repl that accepts a String and a number ofrepetitions as parameters and returns the String concatenated that manytimes. For example, the call repl(\"hello\", 3) returns \"hellohellohello\".If the number of repetitions is 0 or less, an empty string is return\n",
    "\n",
    "\n",
    "def repl(text, occurrence):\n",
    "    new_text = ''\n",
    "    for i in range(occurrence):\n",
    "        new_text += text\n",
    "    return new_text\n",
    "\n",
    "print(repl('Hi', 10)) "
   ]
  },
  {
   "cell_type": "code",
   "execution_count": 202,
   "id": "165e399a",
   "metadata": {},
   "outputs": [
    {
     "name": "stdout",
     "output_type": "stream",
     "text": [
      "2 3 4 5 6 7 \n",
      "19 18 17 16 15 14 13 12 11 \n",
      "5\n",
      "\n"
     ]
    }
   ],
   "source": [
    "#Write a method called printRange that accepts two integers as arguments andprints the sequence of numbers between the two arguments, separated byspaces. Print an increasing sequence if the first argument is smaller thanthe second; otherwise, print a decreasing sequence. If the two numbersare the same, that number should be printed by itself. Here are somesample calls to printRange:printRange(2, 7)printRange(19, 11)printRange(5, 5)The output produced should be the following:2 3 4 5 6 719 18 17 16 15 14 13 12 115\n",
    "\n",
    "def printRange(a,b):\n",
    "    if a == b:\n",
    "        print(a)\n",
    "    elif a < b:\n",
    "        for i in range(a, b + 1):\n",
    "            print(i, end=\" \")\n",
    "    else:\n",
    "        for i in range(a, b - 1, -1):\n",
    "            print(i, end=\" \")\n",
    "printRange(2, 7)\n",
    "print()  \n",
    "printRange(19, 11)\n",
    "print()  \n",
    "printRange(5, 5)\n",
    "print()  "
   ]
  },
  {
   "cell_type": "code",
   "execution_count": null,
   "id": "f059f08d",
   "metadata": {},
   "outputs": [],
   "source": [
    "#12.Write a method named smallestLargest that asks the user to enter numbers,then prints the smallest and largest of all the numbers typed in by theuser. You may assume the user enters a valid number greater than 0 forthe number of numbers to read. Here is an example dialogue:How many numbers do you want to enter? 4Number 1: 5Number 2: 11Number 3: -2Number 4: 3Smallest = -2\n",
    "\n",
    "largest = None\n",
    "smallest = None\n",
    "\n",
    "while True :\n",
    "    voe = int(input(\"How many number do you want to enter\"))\n",
    "    num = raw_input(\"Enter a number: \")\n",
    "    if num == voe :\n",
    "        break\n",
    "    try :\n",
    "        num = int(num)\n",
    "    except :\n",
    "        print \"Invalid input\"\n",
    "        continue\n",
    "    if largest is None :\n",
    "        largest = num\n",
    "    elif largest < num :\n",
    "        largest = num\n",
    "    if smallest is None :\n",
    "        smallest = num\n",
    "    elif num < smallest :\n",
    "        smallest = num\n",
    "\n",
    "print \"Maximum is\", largest\n",
    "print \"Minimum is\", smallest"
   ]
  },
  {
   "cell_type": "code",
   "execution_count": null,
   "id": "f9919fec",
   "metadata": {},
   "outputs": [],
   "source": [
    "#13.Write a method called printAverage that uses a sentinel loop torepeatedly prompt the user for numbers. Once the user types any numberless than zero, the method should display the average of all nonnegativenumbers typed. Display the average as a double. Here is a sampledialogue with the user:Type a number: 7Type a number: 4Type a number: 16Type a number: –4Average was 9.0If the first number that the user types is negative, do not print an average:Type a number: –2\n",
    "\n",
    "def printAverage():\n",
    "    numbers = []\n",
    "    total = 0\n",
    "    count = 0\n",
    "    \n",
    "    while True:\n",
    "        num = float(input(\"Type a number: \"))\n",
    "        if num < 0:\n",
    "            break\n",
    "        else:\n",
    "            numbers.append(num)\n",
    "            total += num\n",
    "            count += 1\n",
    "    \n",
    "    if count > 0:\n",
    "        average = total / count\n",
    "        print(f\"Average was {average}\")\n",
    "    else:\n",
    "        print(\"No nonnegative numbers entered.\")\n",
    "printAverage()\n"
   ]
  },
  {
   "cell_type": "code",
   "execution_count": null,
   "id": "81a62982",
   "metadata": {},
   "outputs": [],
   "source": [
    "#14.Write a method named numUnique that takes three integers as parametersand returns the number of unique integers among the three. For example,the call numUnique(18, 3, 4) should return 3 because the parametershave three different values. By contrast, the call numUnique(6, 7, 6)should return 2 because there are only two unique numbers among thethree parameters: 6 and\n",
    "\n",
    "def numUnique (num1, num2, num3):\n",
    "    unique_int = {num1, num2, num3}\n",
    "    return len(unique_int)\n",
    "    \n",
    "print (numUnique (6,7,6))"
   ]
  },
  {
   "cell_type": "code",
   "execution_count": 186,
   "id": "a3c056ba",
   "metadata": {},
   "outputs": [
    {
     "name": "stdout",
     "output_type": "stream",
     "text": [
      "6 + 2 = 8\n",
      "1 + 6 = 7\n",
      "She won after 2 tries!\n",
      "None\n"
     ]
    }
   ],
   "source": [
    "#15.A Random object generates pseudo-random numbers. Find out how touse the Random class and write a program that simulates rolling of two 6-sided dice until their combined result comes up as 7. One possible outputcan be seen as below: 2 + 4 = 63 + 5 = 85 + 6 = 111 + 1 = 24 + 3 = 7You won after 5 tries!\n",
    "\n",
    "import random\n",
    "\n",
    "def cube_dice(dice1, dice2):\n",
    "    attempts = 0\n",
    "    while True:\n",
    "        dice1 = random.randint(1, 6)\n",
    "        dice2 = random.randint(1, 6)\n",
    "        total = dice1 + dice2\n",
    "        print(f\"{dice1} + {dice2} = {total}\")\n",
    "        attempts += 1\n",
    "        if total == 7:\n",
    "            print(f\"She won after {attempts} tries!\")\n",
    "            break\n",
    "              \n",
    "            \n",
    "print (cube_dice(2,6 ))"
   ]
  },
  {
   "cell_type": "code",
   "execution_count": null,
   "id": "1cd4bb75",
   "metadata": {},
   "outputs": [],
   "source": []
  },
  {
   "cell_type": "code",
   "execution_count": null,
   "id": "da55d9db",
   "metadata": {},
   "outputs": [],
   "source": []
  },
  {
   "cell_type": "code",
   "execution_count": null,
   "id": "772c7cb8",
   "metadata": {},
   "outputs": [],
   "source": []
  }
 ],
 "metadata": {
  "kernelspec": {
   "display_name": "Python 3 (ipykernel)",
   "language": "python",
   "name": "python3"
  },
  "language_info": {
   "codemirror_mode": {
    "name": "ipython",
    "version": 3
   },
   "file_extension": ".py",
   "mimetype": "text/x-python",
   "name": "python",
   "nbconvert_exporter": "python",
   "pygments_lexer": "ipython3",
   "version": "3.11.5"
  }
 },
 "nbformat": 4,
 "nbformat_minor": 5
}
