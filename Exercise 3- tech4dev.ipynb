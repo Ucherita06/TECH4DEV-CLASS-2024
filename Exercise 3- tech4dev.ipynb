{
 "cells": [
  {
   "cell_type": "code",
   "execution_count": 2,
   "id": "256f670d",
   "metadata": {},
   "outputs": [
    {
     "name": "stdout",
     "output_type": "stream",
     "text": [
      "23\n"
     ]
    }
   ],
   "source": [
    "#1. Write a program that finds the maximum value of the given list, assuming that the listcontains at least one element.Try your program with the following array2 4 7 4 23 5 1 4 8 9\n",
    "\n",
    "list = [2, 4 ,7, 4, 23, 5, 1, 4, 8 ,9]\n",
    "print(max(list))"
   ]
  },
  {
   "cell_type": "code",
   "execution_count": 6,
   "id": "d10e33d2",
   "metadata": {},
   "outputs": [
    {
     "name": "stdout",
     "output_type": "stream",
     "text": [
      "Average of list:  24.6\n"
     ]
    }
   ],
   "source": [
    "#Write a program that calculates the average value of the given list.Try your program with the following list4 7 1 5 11 53 12 4684 23\n",
    "\n",
    "\n",
    "loss = [4, 7, 1, 5, 11, 53, 12, 46, 84, 23] \n",
    "average = sum(loss)/len(loss)\n",
    "print(\"Average of list: \", round(average,2))"
   ]
  },
  {
   "cell_type": "code",
   "execution_count": 8,
   "id": "3f0b9944",
   "metadata": {},
   "outputs": [
    {
     "name": "stdout",
     "output_type": "stream",
     "text": [
      "[5, 89, 45, 14, 53, 23, 45, 7, 6, 2]\n"
     ]
    }
   ],
   "source": [
    "#Write a program that prints the given list of integers in reverse order.Try your program with the following list2 6 7 45 23 53 14 45 89 5\n",
    "\n",
    "rev = [2, 6, 7, 45, 23, 53, 14, 45, 89, 5]\n",
    "rev.reverse()\n",
    "print(rev)"
   ]
  },
  {
   "cell_type": "code",
   "execution_count": 10,
   "id": "9b27757e",
   "metadata": {},
   "outputs": [
    {
     "name": "stdout",
     "output_type": "stream",
     "text": [
      "True\n",
      "False\n"
     ]
    }
   ],
   "source": [
    "#Write a program that accepts two lists of integers and prints true if each element in the firstlist is less than the element at the same index in the second list. Your program should printfalse if the lists are not the same length.\n",
    "\n",
    "\n",
    "def common_data(list1, list2):\n",
    "    result = False\n",
    " \n",
    "    for x in list1:\n",
    " \n",
    "        for y in list2:\n",
    "   \n",
    "            if x < y:\n",
    "                result = True\n",
    "                return result \n",
    "                 \n",
    "    return result\n",
    "     \n",
    "\n",
    "a = [1, 2, 3, 4, 5]\n",
    "b = [5, 6, 7, 8, 9]\n",
    "print(common_data(a, b))\n",
    " \n",
    "a = [11, 72, 83, 94, 65]\n",
    "b = [6, 7, 4, 1, 5]\n",
    "print(common_data(a, b))\n",
    "\n",
    "\n"
   ]
  },
  {
   "cell_type": "code",
   "execution_count": 57,
   "id": "167573f2",
   "metadata": {},
   "outputs": [
    {
     "name": "stdout",
     "output_type": "stream",
     "text": [
      "[5, 4, 8, 12, 7]\n"
     ]
    }
   ],
   "source": [
    "#5. Write a program that accepts a list of integers and two indexes and swaps the elements atthose indexes\n",
    "\n",
    "def int_index(input_num: list, index1: int, index2: int):\n",
    "    if 0 <= index1 < len(input_num) and 0 <= index2 < len(input_num):\n",
    "        input_num[index1], input_num[index2] = input_num[index2], input_num[index1]\n",
    "        return input_num \n",
    "    else:\n",
    "        return \"Wrong indexes. Please provide right indexes within the  range.\"\n",
    "    #example\n",
    "input_num = [5,4,7,12,8]\n",
    "index1 =  2\n",
    "index2 = 4\n",
    "result = int_index(input_num,index1,index2)\n",
    "print(result)\n"
   ]
  },
  {
   "cell_type": "code",
   "execution_count": 33,
   "id": "e9ffd0b9",
   "metadata": {},
   "outputs": [
    {
     "name": "stdout",
     "output_type": "stream",
     "text": [
      "[1, 2, 3, 4, 5, 6, 9, 0, 7, 8]\n"
     ]
    }
   ],
   "source": [
    "#6. Write a program that accepts two lists of integers and prints a new list containing allelements of the first list followed by all elements of the second.\n",
    "def tot(liste,listd):\n",
    "    total = liste + listd\n",
    "    return total\n",
    "list1 =[1,2,3,4,5,6]\n",
    "list2 = [9,0,7,8]\n",
    "result = tot(list1,list2)\n",
    "print(result)"
   ]
  },
  {
   "cell_type": "code",
   "execution_count": 35,
   "id": "9729e8ac",
   "metadata": {},
   "outputs": [
    {
     "name": "stdout",
     "output_type": "stream",
     "text": [
      "The last index of the value 99 is 3\n"
     ]
    }
   ],
   "source": [
    "#7. Write a program that accepts a list of integers and an integer value as its parameters andprints the last index at which the value occurs in the list. The program should print –1 if thevalue is not found. For example, in the list [74, 85, 102, 99, 101, 85, 56], the last index of thevalue 85 is 5.\n",
    "def index_of_value (list_input:list,value:int):\n",
    "    if value in list_input[::-1]:\n",
    "        indexe = len(list_input) - list_input[::-1].index(value) - 1\n",
    "        return indexe\n",
    "    else:\n",
    "        return -1\n",
    "example = [74, 85, 102, 99, 101, 85, 56]\n",
    "search_num = 99\n",
    "result = index_of_value(example,search_num)\n",
    "print(\"The last index of the value\", search_num, \"is\", result)\n",
    "    \n",
    "\n"
   ]
  },
  {
   "cell_type": "code",
   "execution_count": 39,
   "id": "cce3a4fc",
   "metadata": {},
   "outputs": [
    {
     "name": "stdout",
     "output_type": "stream",
     "text": [
      "The range value is 35\n"
     ]
    }
   ],
   "source": [
    "#8. Write a program that prints the range of values in a list of integers. The range is defined as 1more than the difference between the maximum and minimum values in the list. Forexample, if a list contains the values [36, 12, 25, 19, 46, 31, 22], the program should return35. You may assume that the list has at least one element\n",
    "def range(listed):\n",
    "    min_num = min(listed)\n",
    "    max_num = max(listed)\n",
    "    range_num = max_num - min_num + 1\n",
    "    return range_num\n",
    "listed =  [36, 12, 25, 19, 46, 31, 22]\n",
    "result = range(listed)\n",
    "print(\"The range value is\", result)"
   ]
  },
  {
   "cell_type": "code",
   "execution_count": 44,
   "id": "06c8a9a4",
   "metadata": {},
   "outputs": [
    {
     "name": "stdout",
     "output_type": "stream",
     "text": [
      "The count between the maximum and minimum is 4\n"
     ]
    }
   ],
   "source": [
    "#9. Write a program that accepts a list of integers, a minimum value, and a maximum value andprints the count of how many elements from the list fall between the minimum andmaximum (inclusive). For example, in the list [14, 1, 22, 17, 36, 7, -43, 5], for minimum value4 and maximum value 17, there are four elements whose values fall between 4 and 17.\n",
    "\n",
    "def count_num_range(input_val,max_val,min_val):\n",
    "    counts = sum(1 for num in input_val if min_val <= num <= max_val)\n",
    "    return counts\n",
    "input_val =[14, 1, 22, 17, 36, 7, -43, 5]\n",
    "max_val = 17\n",
    "min_val = 4\n",
    "results = count_num_range(input_val,max_val,min_val)\n",
    "print (\"The count between the maximum and minimum is\", results)\n",
    "\n",
    "\n"
   ]
  },
  {
   "cell_type": "code",
   "execution_count": 55,
   "id": "21599ca7",
   "metadata": {},
   "outputs": [
    {
     "name": "stdout",
     "output_type": "stream",
     "text": [
      "lista is sorted\n",
      "while listb is also sorted\n"
     ]
    }
   ],
   "source": [
    "#10. Write a program that accepts a list of real numbers and prints true if the list is in sorted(nondecreasing) order and false otherwise. For example, if lists named list1 and list2 store[16.1, 12.3, 22.2, 14.4] and [1.5, 4.3, 7.0, 19.5, 25.1, 46.2] respectively, the program shoulprint false for list1 and true for list2 respectively. Assume the list has at least one element. Aone-element list is sorted.\n",
    "\n",
    "def num_sorted(order):\n",
    "    if len(order) <= 1:\n",
    "        return True\n",
    "    for i in range(1,len(order)):\n",
    "        if order[i-1] > order[i]:\n",
    "            return False\n",
    "        return True\n",
    "lista = [16.1, 12.3, 22.2, 14.4]\n",
    "listb = [1.5, 4.3, 7.0, 19.5, 25.1, 46.2]\n",
    "print(\"lista is sorted\")\n",
    "print(\"while listb is also sorted\")\n",
    "        \n",
    "\n",
    "\n"
   ]
  },
  {
   "cell_type": "code",
   "execution_count": null,
   "id": "9181a469",
   "metadata": {},
   "outputs": [],
   "source": []
  },
  {
   "cell_type": "code",
   "execution_count": null,
   "id": "5b1e1c92",
   "metadata": {},
   "outputs": [],
   "source": []
  },
  {
   "cell_type": "code",
   "execution_count": null,
   "id": "6976717f",
   "metadata": {},
   "outputs": [],
   "source": []
  },
  {
   "cell_type": "code",
   "execution_count": null,
   "id": "38e16fa1",
   "metadata": {},
   "outputs": [],
   "source": []
  }
 ],
 "metadata": {
  "kernelspec": {
   "display_name": "Python 3 (ipykernel)",
   "language": "python",
   "name": "python3"
  },
  "language_info": {
   "codemirror_mode": {
    "name": "ipython",
    "version": 3
   },
   "file_extension": ".py",
   "mimetype": "text/x-python",
   "name": "python",
   "nbconvert_exporter": "python",
   "pygments_lexer": "ipython3",
   "version": "3.11.5"
  }
 },
 "nbformat": 4,
 "nbformat_minor": 5
}
